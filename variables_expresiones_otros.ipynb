{
 "cells": [
  {
   "cell_type": "markdown",
   "metadata": {},
   "source": [
    "#### Este archivo contendrá algunos conceptos básicos de programación usando python como lenguaje."
   ]
  },
  {
   "cell_type": "markdown",
   "metadata": {},
   "source": [
    "#### I) Lo más básico de todo: Mostrar resultados\n"
   ]
  },
  {
   "cell_type": "code",
   "execution_count": 4,
   "metadata": {},
   "outputs": [
    {
     "name": "stdout",
     "output_type": "stream",
     "text": [
      "En todo caso, había un solo tunel oscuro y solitario: el mio.\n",
      "6\n",
      "6.0\n",
      "6\n"
     ]
    }
   ],
   "source": [
    "#entregar texto (string) se hace entre comillas \"\"\n",
    "print(\"En todo caso, había un solo tunel oscuro y solitario: el mio.\")\n",
    "#también se puede mostrar números (enteros: int, o reales: float)\n",
    "print(6)\n",
    "print(6.0)\n",
    "#si se quiere mostrar un número como un texto tambien se puede hacer, pero debe ir en comillas \n",
    "print(\"6\")"
   ]
  },
  {
   "cell_type": "markdown",
   "metadata": {},
   "source": [
    "#### Un error muy comun es escribir textos (desde ahora strings) sin comillas, python cree que pueden ser variables, y al no encontrar el valor de esta, entonces arrojaría un error\n",
    "#### Esto da pie a otro concepto fundamental, las variables\n",
    "#### En python una variable no es exactamente el mismo concepto que en matematicas, acá usaremos variable como una mini memoria, la cual podemos almacenar tanto textos, como valores numéricos, asi como modificar estos valores para el fin que le queramos dar, cuantas veces sea necesario"
   ]
  },
  {
   "cell_type": "code",
   "execution_count": 16,
   "metadata": {},
   "outputs": [
    {
     "name": "stdout",
     "output_type": "stream",
     "text": [
      "Quería tan solo vivir lo que tendía a brotar espontáneamente de mí. ¿Por qué había de serme tan difícil?\n",
      "32\n",
      "Quería tan solo vivir lo que tendía a brotar espontáneamente de mí. ¿Por qué había de serme tan difícil? se encuentra en la página 32\n",
      "1 32\n",
      "33\n"
     ]
    }
   ],
   "source": [
    "x=\"Quería tan solo vivir lo que tendía a brotar espontáneamente de mí. ¿Por qué había de serme tan difícil?\"\n",
    "y=32\n",
    "print(x)\n",
    "print(y)\n",
    "print(x,\"se encuentra en la página\",y)\n",
    "#print acepta cualquier varaible, si separamos por una coma, este separa con un espacio\n",
    "\n",
    "#ahora cambiemos el valor de x\n",
    "x=1\n",
    "print(x,y)\n",
    "print(x+y)"
   ]
  },
  {
   "cell_type": "markdown",
   "metadata": {},
   "source": [
    "#### Ahora que sabemos como guardar variables, conozcamos las operaciones básicas"
   ]
  },
  {
   "cell_type": "code",
   "execution_count": 24,
   "metadata": {},
   "outputs": [
    {
     "name": "stdout",
     "output_type": "stream",
     "text": [
      "-2\n",
      "3\n",
      "3.3333333333333335\n",
      "1\n",
      "0\n",
      "GustavoCerati\n",
      "Gustavo Cerati\n",
      "Gustavo Cerati\n"
     ]
    }
   ],
   "source": [
    "x=5\n",
    "y=3\n",
    "z=10\n",
    "#suma +, resta -, división(int) //, división (float) /.\n",
    "print(x+y-z)\n",
    "print(z//y)\n",
    "print(z/y)\n",
    "# residuo %\n",
    "print(z%y) #debe resultar 1\n",
    "print(z%x) #debe resultar 0\n",
    "# concatenación: basicamente los textos son una cadena de strings, por tanto se ocupa el mismo símbolo de la suma\n",
    "#como cosa importante es que cualquier caracter es un texto para python, incluso el espacio \" \"\n",
    "m=\"Gustavo\"\n",
    "n=\"Cerati\"\n",
    "print(m+n) #no hay un espacio entre medio\n",
    "print(m,n) #aca sí, otra forma es\n",
    "print(m+\" \"+n)"
   ]
  },
  {
   "cell_type": "markdown",
   "metadata": {},
   "source": [
    "## Operadores lógicos   \n",
    "#### Manejar esto, es probablemente lo que más cuesta lograr en un principio, tendemos a automatizar todo lo que realizamos, sin darnos cuenta que en muchas ocasiones seguimos un patron de pasos para realizar determinada acción, un paso inicial para aprender a programar es llevar esta tarea que tenemos mecanizada, a pasos extremadamente detallados.\n",
    "#### Una forma de pensar es hacer lo siguiente: imagina que llega a tu casa un viajero del tiempo del renacimiento y que necesita urgentemente lavar su ropa. Tu con toda la amabilidad del mundo, le ofreces tu cuarto de lavado, pero le dices que te debes ir urgentemente a la universidad porque vas a llegar tarde, sin embargo le vas a enviar las instrucciones de como usar la lavadora por whatsapp (sí, el viajero del tiempo tiene whatsapp). Entonces mientras esperas el metro, le vas dando las instrucciones:\n",
    "#### 1) Colocar la ropa sucia en la lavadora\n",
    "#### 2) Abrir compartimento del detergente\n",
    "#### 3) SI esta vacio, entonces buscar detergente en el mueble al costado de la lavadora\n",
    "#### 4) abrir botella de detergente\n",
    "#### 5) Verter la cantidad deseada en el compartimento \n",
    "#### 6) SI esta lleno, cerrar compartimento del detergente\n",
    "#### 7) Encender lavadora\n",
    "#### 8) elegir lavador normal\n",
    "#### 9) esperar a que termine\n",
    "#### 10) SI, la lavadora está apagada, entonces sacar la ropa\n",
    "\n"
   ]
  },
  {
   "cell_type": "code",
   "execution_count": null,
   "metadata": {},
   "outputs": [],
   "source": []
  }
 ],
 "metadata": {
  "kernelspec": {
   "display_name": "Python 3",
   "language": "python",
   "name": "python3"
  },
  "language_info": {
   "codemirror_mode": {
    "name": "ipython",
    "version": 3
   },
   "file_extension": ".py",
   "mimetype": "text/x-python",
   "name": "python",
   "nbconvert_exporter": "python",
   "pygments_lexer": "ipython3",
   "version": "3.12.4"
  }
 },
 "nbformat": 4,
 "nbformat_minor": 2
}
